{
 "cells": [
  {
   "cell_type": "markdown",
   "id": "eaeb2ebf-13c3-41b4-aedc-81aa41d797a3",
   "metadata": {},
   "source": [
    "## CONSTUCTOR : "
   ]
  },
  {
   "cell_type": "markdown",
   "id": "ea8d256c-2e43-4e63-a3d8-76e19393e08d",
   "metadata": {},
   "source": [
    "#### Constuctor is  used to initialize the value of the object.\n",
    "These are two types:\n",
    " Default Constuctor and \n",
    " Parameterized constuctor\n",
    "\n",
    "Both are invoke with a special member function called as --init-- by default it except self as argument"
   ]
  },
  {
   "cell_type": "markdown",
   "id": "3d366880-08a5-4896-9b23-def3ee5c95df",
   "metadata": {},
   "source": [
    "## "
   ]
  },
  {
   "cell_type": "markdown",
   "id": "f660a7cf-d959-48c7-b40d-289106e109be",
   "metadata": {},
   "source": [
    "#### Write a python code to calculate area of rectangle using constuctor"
   ]
  },
  {
   "cell_type": "code",
   "execution_count": 28,
   "id": "55c50f0f-25eb-4e4f-ae58-a462e5d5419f",
   "metadata": {},
   "outputs": [
    {
     "name": "stdout",
     "output_type": "stream",
     "text": [
      "Area of Rectangle :  50\n"
     ]
    }
   ],
   "source": [
    "class Rectangle:\n",
    "  def __init__(self, length, width):\n",
    "    self.length = length\n",
    "    self.width = width\n",
    "\n",
    "  def area(self):\n",
    "    return self.length * self.width\n",
    "\n",
    "rectangle = Rectangle(10, 5)\n",
    "print(\"Area of Rectangle : \",rectangle.area())"
   ]
  },
  {
   "cell_type": "markdown",
   "id": "a2b7d300-ac5d-4514-ac05-ef87ee45d8cc",
   "metadata": {},
   "source": [
    "##### "
   ]
  },
  {
   "cell_type": "markdown",
   "id": "682a89ae-2616-4a61-a2c2-6fed5a6c1dfe",
   "metadata": {},
   "source": [
    "##### User input string and display in lower order"
   ]
  },
  {
   "cell_type": "code",
   "execution_count": 29,
   "id": "bd604d6f-6032-4262-ac04-4697d29c8102",
   "metadata": {},
   "outputs": [
    {
     "name": "stdin",
     "output_type": "stream",
     "text": [
      "Enter the String SURANJIT\n"
     ]
    },
    {
     "name": "stdout",
     "output_type": "stream",
     "text": [
      "suranjit\n"
     ]
    }
   ],
   "source": [
    "class String:\n",
    "    def __init__(self):\n",
    "        self.a=input(\"Enter the String\")\n",
    "    def display(self):\n",
    "        print(self.a.lower())\n",
    "string=String()\n",
    "string.display()"
   ]
  },
  {
   "cell_type": "markdown",
   "id": "5a9b4e39-fa1c-43f9-aed1-a0a665cd9a46",
   "metadata": {},
   "source": [
    "##### "
   ]
  },
  {
   "cell_type": "markdown",
   "id": "e1ba0729-2aab-423e-8a93-44c0c3130e16",
   "metadata": {},
   "source": [
    "### DESTRUCTOR :"
   ]
  },
  {
   "cell_type": "markdown",
   "id": "5a499b26-884d-4903-b50b-7dcb7571d3d4",
   "metadata": {},
   "source": [
    "#### It is a special function used to destroy the object after required is over. Pythom implicitly destroys the object after it's use\n",
    "The user can destroy the object with the help of del method"
   ]
  },
  {
   "cell_type": "code",
   "execution_count": 32,
   "id": "9fd0275a-faf4-460c-9ee4-879301ca2485",
   "metadata": {},
   "outputs": [
    {
     "name": "stdin",
     "output_type": "stream",
     "text": [
      "Enter the String : suranjit\n"
     ]
    },
    {
     "name": "stdout",
     "output_type": "stream",
     "text": [
      "Destroy\n",
      "suranjit\n",
      "Destroy\n"
     ]
    }
   ],
   "source": [
    "class String:\n",
    "    def __init__(self):\n",
    "        self.a=input(\"Enter the String :\")\n",
    "    def display(self):\n",
    "        print(self.a.lower())\n",
    "    def __del__(self):\n",
    "        print(\"Destroy\")\n",
    "string=String()\n",
    "string.display()\n",
    "del string"
   ]
  }
 ],
 "metadata": {
  "kernelspec": {
   "display_name": "Python 3 (ipykernel)",
   "language": "python",
   "name": "python3"
  },
  "language_info": {
   "codemirror_mode": {
    "name": "ipython",
    "version": 3
   },
   "file_extension": ".py",
   "mimetype": "text/x-python",
   "name": "python",
   "nbconvert_exporter": "python",
   "pygments_lexer": "ipython3",
   "version": "3.11.5"
  }
 },
 "nbformat": 4,
 "nbformat_minor": 5
}
